{
 "cells": [
  {
   "cell_type": "markdown",
   "metadata": {},
   "source": [
    "<pre>\n",
    "/*  Copyright (c) 2020 Ming Liu <Mliu54@sheffield.ac.uk>\n",
    " *\n",
    " *  Licensed under the Apache License, Version 2.0 (the \"License\");\n",
    " *  you may not use this file except in compliance with the License.\n",
    " *  You may obtain a copy of the License at\n",
    " *\n",
    " *      http://www.apache.org/licenses/LICENSE-2.0\n",
    " *\n",
    " * Unless required by applicable law or agreed to in writing, software\n",
    " * distributed under the License is distributed on an \"AS IS\" BASIS,\n",
    " * WITHOUT WARRANTIES OR CONDITIONS OF ANY KIND, either express or implied.\n",
    " * See the License for the specific language governing permissions and\n",
    " * limitations under the License.\n",
    " */\n",
    "</pre>\n",
    "\n",
    "Project: OpenCV: Open Source Computer Vision Library<br>\n",
    "Project URL: https://github.com/opencv/opencv<br>\n",
    "License: 3-clause BSD License(BSD) https://github.com/opencv/opencv/blob/master/LICENSE<br><br>\n",
    "\n",
    "Project: Tesseract OCR<br>\n",
    "Project URL: https://github.com/tesseract-ocr/tesseract<br>\n",
    "License: Apache License 2.0 https://github.com/tesseract-ocr/tesseract/blob/master/LICENSE<br><br>\n",
    "\n",
    "Project: pdf2image<br>\n",
    "Project URL: https://github.com/Belval/pdf2image<br>\n",
    "License: MIT License(MIT) https://github.com/Belval/pdf2image/blob/master/LICENSE<br><br>\n",
    "\n",
    "Code: extract text from a picture file<br>\n",
    "Code URL: https://nanonets.com/blog/ocr-with-tesseract/#ocrwithpytesseractandopencv <br>"
   ]
  },
  {
   "cell_type": "code",
   "execution_count": 1,
   "metadata": {
    "ExecuteTime": {
     "end_time": "2020-08-12T20:02:50.160452Z",
     "start_time": "2020-08-12T20:00:02.195777Z"
    }
   },
   "outputs": [],
   "source": [
    "import cv2\n",
    "import pytesseract\n",
    "\n",
    "from PIL import Image \n",
    "from pdf2image import convert_from_path\n",
    "\n",
    "# reset maximum image pixels (34676-M57-0302_Iss7.pdf: 387460068)\n",
    "Image.MAX_IMAGE_PIXELS = 1000000000 \n",
    "\n",
    "# file name\n",
    "MONOCHROME_FILE = '34676-M57-0302_Iss7'\n",
    "COLOURFUL_FILE = 'AMG-34676-M57-0302_Iss2'\n",
    "FILE_NAME = COLOURFUL_FILE\n",
    "\n",
    "# convert pdf to jpeg\n",
    "pages = convert_from_path(FILE_NAME + '.pdf', 500)\n",
    "\n",
    "for page in pages:\n",
    "    page.save(FILE_NAME + '.jpg', 'JPEG')\n",
    "\n",
    "# read jpg    \n",
    "img = cv2.imread(FILE_NAME + '.jpg')\n",
    "h, w, c = img.shape\n",
    "\n",
    "# mark the text in the picture\n",
    "boxes = pytesseract.image_to_boxes(img) \n",
    "for b in boxes.splitlines():\n",
    "    b = b.split(' ')\n",
    "    img = cv2.rectangle(img, (int(b[1]), h - int(b[2])), (int(b[3]), h - int(b[4])), (0, 255, 0), 2)\n",
    "\n",
    "# write picture to file\n",
    "cv2.imwrite(FILE_NAME + '_with_boxes.jpg', img)\n",
    "# show the picture\n",
    "# cv2.imshow(FILE_NAME + '_with_boxes', img)"
   ]
  }
 ],
 "metadata": {
  "kernelspec": {
   "display_name": "Python 3",
   "language": "python",
   "name": "python3"
  },
  "language_info": {
   "codemirror_mode": {
    "name": "ipython",
    "version": 3
   },
   "file_extension": ".py",
   "mimetype": "text/x-python",
   "name": "python",
   "nbconvert_exporter": "python",
   "pygments_lexer": "ipython3",
   "version": "3.7.4"
  },
  "latex_envs": {
   "LaTeX_envs_menu_present": true,
   "autoclose": false,
   "autocomplete": true,
   "bibliofile": "biblio.bib",
   "cite_by": "apalike",
   "current_citInitial": 1,
   "eqLabelWithNumbers": true,
   "eqNumInitial": 1,
   "hotkeys": {
    "equation": "Ctrl-E",
    "itemize": "Ctrl-I"
   },
   "labels_anchors": false,
   "latex_user_defs": false,
   "report_style_numbering": false,
   "user_envs_cfg": false
  },
  "varInspector": {
   "cols": {
    "lenName": 16,
    "lenType": 16,
    "lenVar": 40
   },
   "kernels_config": {
    "python": {
     "delete_cmd_postfix": "",
     "delete_cmd_prefix": "del ",
     "library": "var_list.py",
     "varRefreshCmd": "print(var_dic_list())"
    },
    "r": {
     "delete_cmd_postfix": ") ",
     "delete_cmd_prefix": "rm(",
     "library": "var_list.r",
     "varRefreshCmd": "cat(var_dic_list()) "
    }
   },
   "types_to_exclude": [
    "module",
    "function",
    "builtin_function_or_method",
    "instance",
    "_Feature"
   ],
   "window_display": false
  }
 },
 "nbformat": 4,
 "nbformat_minor": 2
}
