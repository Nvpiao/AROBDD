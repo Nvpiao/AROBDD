{
 "cells": [
  {
   "cell_type": "markdown",
   "metadata": {},
   "source": [
    "<pre>\n",
    "/*  Copyright (c) 2020 Ming Liu <Mliu54@sheffield.ac.uk>\n",
    " *\n",
    " *  Licensed under the Apache License, Version 2.0 (the \"License\");\n",
    " *  you may not use this file except in compliance with the License.\n",
    " *  You may obtain a copy of the License at\n",
    " *\n",
    " *      http://www.apache.org/licenses/LICENSE-2.0\n",
    " *\n",
    " * Unless required by applicable law or agreed to in writing, software\n",
    " * distributed under the License is distributed on an \"AS IS\" BASIS,\n",
    " * WITHOUT WARRANTIES OR CONDITIONS OF ANY KIND, either express or implied.\n",
    " * See the License for the specific language governing permissions and\n",
    " * limitations under the License.\n",
    " */\n",
    "</pre>"
   ]
  },
  {
   "cell_type": "code",
   "execution_count": 1,
   "metadata": {
    "ExecuteTime": {
     "end_time": "2020-08-19T17:47:06.894010Z",
     "start_time": "2020-08-19T17:47:03.968475Z"
    }
   },
   "outputs": [],
   "source": [
    "import pandas as pd\n",
    "import matplotlib.pyplot as plt\n",
    "from sklearn.cluster import KMeans\n",
    "\n",
    "random_seed = 123\n",
    "\n",
    "initial_file = '34676-M57-0302_Iss7-loc_text-without-res.csv'\n",
    "result_file = '34676-M57-0302_Iss7-loc_text.csv'"
   ]
  },
  {
   "cell_type": "code",
   "execution_count": 2,
   "metadata": {
    "ExecuteTime": {
     "end_time": "2020-08-19T17:47:06.914999Z",
     "start_time": "2020-08-19T17:47:06.900007Z"
    }
   },
   "outputs": [],
   "source": [
    "# read data\n",
    "text_coors = pd.read_csv(initial_file)\n",
    "\n",
    "# depends on the number of rooms in PDF file\n",
    "num_classes = 14"
   ]
  },
  {
   "cell_type": "code",
   "execution_count": 3,
   "metadata": {
    "ExecuteTime": {
     "end_time": "2020-08-19T17:47:06.962974Z",
     "start_time": "2020-08-19T17:47:06.931989Z"
    },
    "scrolled": true
   },
   "outputs": [
    {
     "data": {
      "text/html": [
       "<div>\n",
       "<style scoped>\n",
       "    .dataframe tbody tr th:only-of-type {\n",
       "        vertical-align: middle;\n",
       "    }\n",
       "\n",
       "    .dataframe tbody tr th {\n",
       "        vertical-align: top;\n",
       "    }\n",
       "\n",
       "    .dataframe thead th {\n",
       "        text-align: right;\n",
       "    }\n",
       "</style>\n",
       "<table border=\"1\" class=\"dataframe\">\n",
       "  <thead>\n",
       "    <tr style=\"text-align: right;\">\n",
       "      <th></th>\n",
       "      <th>x</th>\n",
       "      <th>y</th>\n",
       "      <th>text</th>\n",
       "      <th>type</th>\n",
       "    </tr>\n",
       "  </thead>\n",
       "  <tbody>\n",
       "    <tr>\n",
       "      <th>0</th>\n",
       "      <td>-12.652222</td>\n",
       "      <td>991.52000</td>\n",
       "      <td>BREAKOUT ROOM 3.5</td>\n",
       "      <td>ROOM</td>\n",
       "    </tr>\n",
       "    <tr>\n",
       "      <th>1</th>\n",
       "      <td>149.385010</td>\n",
       "      <td>672.68005</td>\n",
       "      <td>E/D.29</td>\n",
       "      <td>SENSOR</td>\n",
       "    </tr>\n",
       "    <tr>\n",
       "      <th>2</th>\n",
       "      <td>-9.466431</td>\n",
       "      <td>1751.54000</td>\n",
       "      <td>SILENT STUDY SPACE 1_30 Workplaces</td>\n",
       "      <td>ROOM</td>\n",
       "    </tr>\n",
       "    <tr>\n",
       "      <th>3</th>\n",
       "      <td>215.834350</td>\n",
       "      <td>1630.88000</td>\n",
       "      <td>E/E.26</td>\n",
       "      <td>SENSOR</td>\n",
       "    </tr>\n",
       "    <tr>\n",
       "      <th>4</th>\n",
       "      <td>107.133910</td>\n",
       "      <td>1736.48000</td>\n",
       "      <td>SUF-03</td>\n",
       "      <td>SENSOR</td>\n",
       "    </tr>\n",
       "  </tbody>\n",
       "</table>\n",
       "</div>"
      ],
      "text/plain": [
       "            x           y                                text    type\n",
       "0  -12.652222   991.52000                   BREAKOUT ROOM 3.5    ROOM\n",
       "1  149.385010   672.68005                              E/D.29  SENSOR\n",
       "2   -9.466431  1751.54000  SILENT STUDY SPACE 1_30 Workplaces    ROOM\n",
       "3  215.834350  1630.88000                              E/E.26  SENSOR\n",
       "4  107.133910  1736.48000                              SUF-03  SENSOR"
      ]
     },
     "execution_count": 3,
     "metadata": {},
     "output_type": "execute_result"
    }
   ],
   "source": [
    "text_coors.head()"
   ]
  },
  {
   "cell_type": "code",
   "execution_count": 4,
   "metadata": {
    "ExecuteTime": {
     "end_time": "2020-08-19T17:47:06.975963Z",
     "start_time": "2020-08-19T17:47:06.967968Z"
    }
   },
   "outputs": [],
   "source": [
    "# adquire (x,y) coordinates\n",
    "features = text_coors.iloc[:,[0,1]].to_numpy()"
   ]
  },
  {
   "cell_type": "code",
   "execution_count": 5,
   "metadata": {
    "ExecuteTime": {
     "end_time": "2020-08-19T17:47:07.089897Z",
     "start_time": "2020-08-19T17:47:06.981959Z"
    }
   },
   "outputs": [],
   "source": [
    "kmeans = KMeans(num_classes, random_state=random_seed, max_iter=50, algorithm='full')\n",
    "clusters = kmeans.fit_predict(features)"
   ]
  },
  {
   "cell_type": "code",
   "execution_count": 6,
   "metadata": {
    "ExecuteTime": {
     "end_time": "2020-08-19T17:47:07.706459Z",
     "start_time": "2020-08-19T17:47:07.092895Z"
    },
    "scrolled": true
   },
   "outputs": [
    {
     "data": {
      "image/png": "[encoded data removed]",
      "text/plain": [
       "<Figure size 432x288 with 1 Axes>"
      ]
     },
     "metadata": {
      "needs_background": "light"
     },
     "output_type": "display_data"
    }
   ],
   "source": [
    "# plot results and reset (0,0) to top left corner\n",
    "plt.scatter(features[:, 0], features[:, 1], c=clusters)\n",
    "ax = plt.gca()                  \n",
    "ax.xaxis.set_ticks_position('top')\n",
    "ax.invert_yaxis()                 \n",
    "plt.show()"
   ]
  },
  {
   "cell_type": "code",
   "execution_count": 7,
   "metadata": {
    "ExecuteTime": {
     "end_time": "2020-08-19T17:47:07.716453Z",
     "start_time": "2020-08-19T17:47:07.710456Z"
    }
   },
   "outputs": [],
   "source": [
    "# add result of clustering\n",
    "text_coors['group']=clusters"
   ]
  },
  {
   "cell_type": "code",
   "execution_count": 8,
   "metadata": {
    "ExecuteTime": {
     "end_time": "2020-08-19T17:47:07.741439Z",
     "start_time": "2020-08-19T17:47:07.720452Z"
    },
    "scrolled": true
   },
   "outputs": [],
   "source": [
    "# sort by group id and type\n",
    "text_coors = text_coors.sort_values(by=['group','type'],axis=0,ascending=[True,True]) "
   ]
  },
  {
   "cell_type": "code",
   "execution_count": 9,
   "metadata": {
    "ExecuteTime": {
     "end_time": "2020-08-19T17:47:07.782415Z",
     "start_time": "2020-08-19T17:47:07.746437Z"
    },
    "scrolled": false
   },
   "outputs": [
    {
     "data": {
      "text/html": [
       "<div>\n",
       "<style scoped>\n",
       "    .dataframe tbody tr th:only-of-type {\n",
       "        vertical-align: middle;\n",
       "    }\n",
       "\n",
       "    .dataframe tbody tr th {\n",
       "        vertical-align: top;\n",
       "    }\n",
       "\n",
       "    .dataframe thead th {\n",
       "        text-align: right;\n",
       "    }\n",
       "</style>\n",
       "<table border=\"1\" class=\"dataframe\">\n",
       "  <thead>\n",
       "    <tr style=\"text-align: right;\">\n",
       "      <th></th>\n",
       "      <th>x</th>\n",
       "      <th>y</th>\n",
       "      <th>text</th>\n",
       "      <th>type</th>\n",
       "      <th>group</th>\n",
       "    </tr>\n",
       "  </thead>\n",
       "  <tbody>\n",
       "    <tr>\n",
       "      <th>44</th>\n",
       "      <td>1321.0547</td>\n",
       "      <td>629.84000</td>\n",
       "      <td>E.27_ICT ROOM</td>\n",
       "      <td>ROOM</td>\n",
       "      <td>0</td>\n",
       "    </tr>\n",
       "    <tr>\n",
       "      <th>45</th>\n",
       "      <td>1453.1646</td>\n",
       "      <td>764.18005</td>\n",
       "      <td>E.28_FEMALE TOILETS</td>\n",
       "      <td>ROOM</td>\n",
       "      <td>0</td>\n",
       "    </tr>\n",
       "    <tr>\n",
       "      <th>46</th>\n",
       "      <td>1532.9200</td>\n",
       "      <td>748.21020</td>\n",
       "      <td>ATT/E.44/1</td>\n",
       "      <td>SENSOR</td>\n",
       "      <td>0</td>\n",
       "    </tr>\n",
       "    <tr>\n",
       "      <th>48</th>\n",
       "      <td>1461.7944</td>\n",
       "      <td>628.28000</td>\n",
       "      <td>E/E.44</td>\n",
       "      <td>SENSOR</td>\n",
       "      <td>0</td>\n",
       "    </tr>\n",
       "    <tr>\n",
       "      <th>51</th>\n",
       "      <td>1461.7944</td>\n",
       "      <td>729.68005</td>\n",
       "      <td>E/E.44</td>\n",
       "      <td>SENSOR</td>\n",
       "      <td>0</td>\n",
       "    </tr>\n",
       "  </tbody>\n",
       "</table>\n",
       "</div>"
      ],
      "text/plain": [
       "            x          y                 text    type  group\n",
       "44  1321.0547  629.84000        E.27_ICT ROOM    ROOM      0\n",
       "45  1453.1646  764.18005  E.28_FEMALE TOILETS    ROOM      0\n",
       "46  1532.9200  748.21020           ATT/E.44/1  SENSOR      0\n",
       "48  1461.7944  628.28000               E/E.44  SENSOR      0\n",
       "51  1461.7944  729.68005               E/E.44  SENSOR      0"
      ]
     },
     "execution_count": 9,
     "metadata": {},
     "output_type": "execute_result"
    }
   ],
   "source": [
    "text_coors.head()"
   ]
  },
  {
   "cell_type": "code",
   "execution_count": 11,
   "metadata": {
    "ExecuteTime": {
     "end_time": "2020-08-19T17:48:35.835621Z",
     "start_time": "2020-08-19T17:48:35.825628Z"
    }
   },
   "outputs": [],
   "source": [
    "# rewrite to file\n",
    "text_coors.to_csv(result_file, index=False)"
   ]
  }
 ],
 "metadata": {
  "kernelspec": {
   "display_name": "Python 3",
   "language": "python",
   "name": "python3"
  },
  "language_info": {
   "codemirror_mode": {
    "name": "ipython",
    "version": 3
   },
   "file_extension": ".py",
   "mimetype": "text/x-python",
   "name": "python",
   "nbconvert_exporter": "python",
   "pygments_lexer": "ipython3",
   "version": "3.7.4"
  },
  "latex_envs": {
   "LaTeX_envs_menu_present": true,
   "autoclose": false,
   "autocomplete": true,
   "bibliofile": "biblio.bib",
   "cite_by": "apalike",
   "current_citInitial": 1,
   "eqLabelWithNumbers": true,
   "eqNumInitial": 1,
   "hotkeys": {
    "equation": "Ctrl-E",
    "itemize": "Ctrl-I"
   },
   "labels_anchors": false,
   "latex_user_defs": false,
   "report_style_numbering": false,
   "user_envs_cfg": false
  },
  "varInspector": {
   "cols": {
    "lenName": 16,
    "lenType": 16,
    "lenVar": 40
   },
   "kernels_config": {
    "python": {
     "delete_cmd_postfix": "",
     "delete_cmd_prefix": "del ",
     "library": "var_list.py",
     "varRefreshCmd": "print(var_dic_list())"
    },
    "r": {
     "delete_cmd_postfix": ") ",
     "delete_cmd_prefix": "rm(",
     "library": "var_list.r",
     "varRefreshCmd": "cat(var_dic_list()) "
    }
   },
   "types_to_exclude": [
    "module",
    "function",
    "builtin_function_or_method",
    "instance",
    "_Feature"
   ],
   "window_display": false
  }
 },
 "nbformat": 4,
 "nbformat_minor": 2
}
